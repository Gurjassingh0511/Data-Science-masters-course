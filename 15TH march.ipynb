{
 "cells": [
  {
   "cell_type": "markdown",
   "id": "505a3fa8-58e7-4616-a913-84162dcc5ce1",
   "metadata": {},
   "source": [
    "##Assignment"
   ]
  },
  {
   "cell_type": "markdown",
   "id": "e0cfdab3-04f4-40cc-9a21-cd61378a2af2",
   "metadata": {},
   "source": [
    "Ans1"
   ]
  },
  {
   "cell_type": "raw",
   "id": "ed5bccf4-2026-4e90-a247-b341582ed3d0",
   "metadata": {},
   "source": [
    "1) Artificial Intelligence : AI refers to the development of computer systems that can perform tasks that  require human intelligence \n",
    "Example : Siri or Alexa.\n",
    "2) Machine Learning : ML is a subset of AI that involves creating computer programs that can automatically improve their performance on a task over time by learning from data.\n",
    "Example: Image recognition.\n",
    "3) Deep Learning : DL is a subset of ML that involves creating neural networks with multiple layers that can learn complex representations of data. DL algorithms are effective at processing large amounts of unstructured data, such as images, audio, and text.\n",
    "Example: speech recognition."
   ]
  },
  {
   "cell_type": "markdown",
   "id": "7dace550-384d-4bc9-85a2-fc7039c5f0c4",
   "metadata": {},
   "source": [
    "ANS2"
   ]
  },
  {
   "cell_type": "raw",
   "id": "8e2efba3-af91-436f-ad10-0b19dadca7de",
   "metadata": {},
   "source": [
    "Supervised learning is a type of machine learning in which an algorithm learns to make predictions based on labeled training data. In supervised learning, the training data consists of pairs of inputs and corresponding outputs.\n",
    "Example: Image classification, Spam detection, Speech recognition"
   ]
  },
  {
   "cell_type": "markdown",
   "id": "15df89fc-73b4-4dc5-9061-d8a6d326f231",
   "metadata": {},
   "source": [
    "ANS3"
   ]
  },
  {
   "cell_type": "raw",
   "id": "db30753e-6a32-4edc-8351-e8d13c12515c",
   "metadata": {},
   "source": [
    "Unsupervised learning is a type of machine learning in which an algorithm learns to identify patterns in unlabelled data without the need for explicit supervision or guidance. Unlike supervised learning, there are no labeled outputs provided during training.\n",
    "Example :Clustering, Anomaly detection, Dimensionality reduction"
   ]
  },
  {
   "cell_type": "markdown",
   "id": "f819cf53-c7c6-464f-b102-5c890e282018",
   "metadata": {},
   "source": [
    "ANS4"
   ]
  },
  {
   "cell_type": "raw",
   "id": "32fd7d9b-bda7-4033-b05e-f7b5aa589a3f",
   "metadata": {},
   "source": [
    "Artificial Intelligence : AI refers to the development of computer systems that can perform tasks that  require human intelligence \n",
    "\n",
    "Machine Learning : ML is a subset of AI that involves creating computer programs that can automatically improve their performance on a task over time by learning from data.\n",
    "\n",
    "Deep Learning : DL is a subset of ML that involves creating neural networks with multiple layers that can learn complex representations of data. DL algorithms are effective at processing large amounts of unstructured data, such as images, audio, and text.\n",
    "\n",
    "\n",
    "Data Science : DS involves using statistical methods to extract insights and knowledge from data. DS includes a broad range of techniques, including data cleaning and preprocessing, exploratory data analysis and data visualization."
   ]
  },
  {
   "cell_type": "markdown",
   "id": "ef557a4d-2b54-4e3d-bae5-4a3dc39af406",
   "metadata": {},
   "source": [
    "ANS5"
   ]
  },
  {
   "cell_type": "raw",
   "id": "6e92b300-7880-4a50-9c87-12a6006b67d6",
   "metadata": {},
   "source": [
    "Supervised Learning: In supervised learning, the data is labeled, meaning each input has a corresponding output. The algorithm is trained on the labeled dataset to learn the relationship between the input and output variables. The goal is to make accurate predictions for new, unseen data.\n",
    "\n",
    "Unsupervised Learning: In unsupervised learning, the data is unlabeled, meaning there are no corresponding output variables. The algorithm is trained on the unlabeled dataset to learn patterns, relationships, and structure within the data. The goal is to group similar data points together or identify anomalies or patterns in the data.\n",
    "\n",
    "Semi-Supervised Learning: Semi-supervised learning is a combination of both supervised and unsupervised learning. The dataset is partially labeled, meaning some of the data has corresponding output variables, while the rest is unlabeled. The algorithm is trained on both the labeled and unlabeled data to learn patterns and relationships within the data. The goal is to make accurate predictions for new, unseen data, while also taking advantage of the additional information provided by the labeled data. Examples include speech recognition, machine translation, and sentiment analysis.\n",
    "\n",
    "\n",
    "supervised learning requires labeled data, unsupervised learning works with unlabeled data, and semi-supervised learning combines both labeled and unlabeled data. "
   ]
  },
  {
   "cell_type": "markdown",
   "id": "e87e42be-7b16-4ce1-a6b2-9c8e6ce2fd71",
   "metadata": {},
   "source": [
    "ANS6"
   ]
  },
  {
   "cell_type": "raw",
   "id": "3a4e5b8b-c133-40b1-9b85-9362268cd1e3",
   "metadata": {},
   "source": [
    "Training Set: This subset of the dataset is used to train the model. The model learns from the labeled data in this set and adjusts its parameters to minimize the error on the training data.\n",
    "\n",
    "Test Set: This subset of the dataset is used to evaluate the performance of the model. The model is applied to the test data to make predictions, and the predicted values are compared to the actual values to calculate the error.\n",
    "\n",
    "Validation Set: This subset of the dataset is used to fine-tune the model. The validation set is used to test the model after each iteration of training to ensure that the model is not overfitting (i.e., the model is not simply memorizing the training data). If the model performs well on the validation set, then it is likely to generalize well to new, unseen data.\n",
    "\n",
    "Importance-\n",
    "\n",
    "Training Set: The training set is used to train the model, and it is important because the model can only learn from the labeled data in this set. The more diverse and representative the training set is, the better the model is likely to perform.\n",
    "\n",
    "Test Set: The test set is used to evaluate the performance of the model on new, unseen data. It is important to use a separate test set because the model may overfit the training data and perform poorly on new data. The test set provides an unbiased estimate of the performance of the model.\n",
    "\n",
    "Validation Set: The validation set is used to fine-tune the model and prevent overfitting. It is important to use a separate validation set because if the model is tuned based on the performance on the test set, it may overfit the test set and perform poorly on new data."
   ]
  },
  {
   "cell_type": "markdown",
   "id": "e2ba1230-ab7e-459a-9c85-54b1f9e69c6c",
   "metadata": {},
   "source": [
    "ANS 7"
   ]
  },
  {
   "cell_type": "raw",
   "id": "88855ac3-8a1a-4754-a121-8a77de42af7d",
   "metadata": {},
   "source": [
    "Unsupervised learning can be used in anomaly detection by identifying patterns or clusters in the data and flagging data points that do not fit into those patterns or clusters as anomalies.\n",
    "\n",
    "One common approach for anomaly detection using unsupervised learning is clustering. Clustering algorithms group data points together based on their similarity. Any data points that do not fit into any of the clusters or are too far away from the clusters are considered anomalies. For example, if we have a dataset of credit card transactions, clustering algorithms can be used to group similar transactions together based on the amount, location, time, and other factors. Any transactions that do not fit into any of the clusters or are significantly different from the clusters can be flagged as potential fraud or anomalies."
   ]
  },
  {
   "cell_type": "markdown",
   "id": "009cd8d3-d563-4c02-83fc-6ec7ca3f6cbb",
   "metadata": {},
   "source": [
    "Ans 8"
   ]
  },
  {
   "cell_type": "code",
   "execution_count": null,
   "id": "3de4ede1-ace1-4353-ab68-d268536d8822",
   "metadata": {},
   "outputs": [],
   "source": [
    "Some commonly used supervised learning algorithms are:\n",
    "\n",
    "Linear Regression\n",
    "Logistic Regression\n",
    "Decision Tree\n",
    "Random Forest\n",
    "K-Nearest Neighbors (KNN)\n",
    "Support Vector Machines (SVM)\n",
    "Neural Networks (NN)\n",
    "\n",
    "Some commonly used unsupervised learning algorithms are:\n",
    "\n",
    "K-Means Clustering\n",
    "Hierarchical Clustering\n",
    "Principal Component Analysis (PCA)\n",
    "t-Distributed Stochastic Neighbor Embedding (t-SNE)\n",
    "Gaussian Mixture Models (GMM)\n",
    "Association Rule Mining (ARM)\n",
    "Anomaly Detection Algorithms"
   ]
  }
 ],
 "metadata": {
  "kernelspec": {
   "display_name": "Python 3 (ipykernel)",
   "language": "python",
   "name": "python3"
  },
  "language_info": {
   "codemirror_mode": {
    "name": "ipython",
    "version": 3
   },
   "file_extension": ".py",
   "mimetype": "text/x-python",
   "name": "python",
   "nbconvert_exporter": "python",
   "pygments_lexer": "ipython3",
   "version": "3.10.8"
  }
 },
 "nbformat": 4,
 "nbformat_minor": 5
}
