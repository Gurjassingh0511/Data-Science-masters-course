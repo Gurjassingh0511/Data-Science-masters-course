{
 "cells": [
  {
   "cell_type": "raw",
   "id": "bc675e15",
   "metadata": {},
   "source": [
    "Q1. What is the Probability density function?\n",
    "The Probability density function (PDF) is a function that describes the likelihood of a random variable taking a particular value. It gives the probability of the random variable lying between two points, as the area under the curve of the PDF between those two points."
   ]
  },
  {
   "cell_type": "raw",
   "id": "90dfa9d8",
   "metadata": {},
   "source": [
    "Q2. What are the types of Probability distribution?\n",
    "There are several types of probability distributions, including:\n",
    "\n",
    "Normal Distribution\n",
    "Binomial Distribution\n",
    "Poisson Distribution\n",
    "Exponential Distribution\n",
    "Uniform Distribution\n",
    "Gamma Distribution"
   ]
  },
  {
   "cell_type": "raw",
   "id": "1b0cd377",
   "metadata": {},
   "source": [
    "Q3. Write a Python function to calculate the probability density function of a normal distribution with given mean and standard deviation at a given point.\n",
    "Here is a Python function to calculate the probability density function of a normal distribution with given mean and standard deviation at a given point:\n",
    "\n",
    "import math\n",
    "\n",
    "def normal_pdf(x, mu, sigma):\n",
    "    \"\"\"\n",
    "    Calculates the probability density function of a normal distribution\n",
    "    with mean mu and standard deviation sigma at point x.\n",
    "    \"\"\"\n",
    "    return (1 / (math.sqrt(2 * math.pi) * sigma)) * math.exp(-((x - mu) ** 2) / (2 * (sigma ** 2)))"
   ]
  },
  {
   "cell_type": "raw",
   "id": "4b196a59",
   "metadata": {},
   "source": [
    "Q4. What are the properties of Binomial distribution? Give two examples of events where binomial distribution can be applied.\n",
    " The binomial distribution is a discrete probability distribution that describes the number of successes in a fixed number of independent trials, where each trial has only two possible outcomes (success or failure). The properties of the binomial distribution are:\n",
    "\n",
    "There are a fixed number of trials, denoted by n.\n",
    "Each trial has only two possible outcomes, denoted by success (S) and failure (F).\n",
    "The trials are independent of each other.\n",
    "The probability of success, denoted by p, is constant for each trial.\n",
    "Examples of events where binomial distribution can be applied are:\n",
    "\n",
    "The number of heads in a fixed number of coin tosses.\n",
    "The number of defective items in a fixed number of products manufactured."
   ]
  },
  {
   "cell_type": "raw",
   "id": "e7dabc27",
   "metadata": {},
   "source": [
    "Q5. Generate a random sample of size 1000 from a binomial distribution with probability of success 0.4 and plot a histogram of the results using matplotlib.\n",
    " Here is a Python code to generate a random sample of size 1000 from a binomial distribution with probability of success 0.4 and plot a histogram of the results using matplotlib:\n",
    "\n",
    "import numpy as np\n",
    "import matplotlib.pyplot as plt\n",
    "\n",
    "n = 10  # number of trials\n",
    "p = 0.4  # probability of success\n",
    "size = 1000  # sample size\n",
    "\n",
    "# generate random sample from binomial distribution\n",
    "sample = np.random.binomial(n, p, size)\n",
    "\n",
    "# plot histogram of results\n",
    "plt.hist(sample, bins=range(n+2), align='left', rwidth=0.8)\n",
    "plt.xlabel('Number of Successes')\n",
    "plt.ylabel('Frequency')\n",
    "plt.show()"
   ]
  },
  {
   "cell_type": "raw",
   "id": "d73f7ebd",
   "metadata": {},
   "source": [
    "Q6. Write a Python function to calculate the cumulative distribution function of a Poisson distribution with given mean at a given point.\n",
    "Here is a Python function to calculate the cumulative distribution function of a Poisson distribution with given mean at a given point:\n",
    "import math\n",
    "\n",
    "def poisson_cdf(x, mu):\n",
    "    \"\"\"\n",
    "    Calculates the cumulative distribution function of a Poisson distribution\n",
    "    with mean mu at point x.\n",
    "    \"\"\"\n",
    "    cdf = 0\n",
    "    for i in range(x+1):\n",
    "        cdf += (math.exp(-mu) * (mu ** i)) / math.factorial(i)\n",
    "    return cdf"
   ]
  },
  {
   "cell_type": "raw",
   "id": "20e85567",
   "metadata": {},
   "source": [
    "Q7. How Binomial distribution different from Poisson distribution?\n",
    "The binomial distribution and Poisson distribution are both discrete probability distributions that describe the number of events in a fixed number of trials. However, the binomial distribution applies when the trials are independent and have only two possible outcomes, while the Poisson distribution applies when the number of events in a large population over a fixed interval of time or space follows a Poisson process. In other words, the binomial distribution is used to describe events that are discrete and countable, while the Poisson distribution is used to describe events that are continuous and uncountable."
   ]
  },
  {
   "cell_type": "raw",
   "id": "57933049",
   "metadata": {},
   "source": [
    "Q8. Generate a random sample of size 1000 from a Poisson distribution with mean 5 and calculate the sample mean and variance.\n",
    "To generate a random sample of size 1000 from a Poisson distribution with mean 5 and calculate the sample mean and variance using Python, we can use the following code:\n",
    "\n",
    "\n",
    "import numpy as np\n",
    "\n",
    "# Generate random sample of size 1000 from Poisson distribution with mean 5\n",
    "sample = np.random.poisson(5, size=1000)\n",
    "\n",
    "# Calculate sample mean and variance\n",
    "mean = np.mean(sample)\n",
    "variance = np.var(sample)\n",
    "\n",
    "print(\"Sample Mean:\", mean)\n",
    "print(\"Sample Variance:\", variance)\n",
    "The output will be two values: the sample mean and variance. The values will be close to the true mean and variance of a Poisson distribution with mean 5.\n",
    "\n",
    "Mean = Variance = lambda\n",
    "where lambda is the rate parameter.\n"
   ]
  },
  {
   "cell_type": "raw",
   "id": "b56fd044",
   "metadata": {},
   "source": [
    "Q9. How mean and variance are related in Binomial distribution and Poisson distribution?In the Binomial distribution, the mean and variance are related as follows:\n",
    "\n",
    "css\n",
    "Copy code\n",
    "Mean = n * p\n",
    "Variance = n * p * (1 - p)\n",
    "where n is the number of trials, and p is the probability of success in each trial.\n",
    "\n",
    "In the Poisson distribution, the mean and variance are equal and are both equal to the parameter lambda:\n",
    "Mean = Variance = lambda\n",
    "where lambda is the rate parameter."
   ]
  },
  {
   "cell_type": "raw",
   "id": "dbe20e70",
   "metadata": {},
   "source": [
    "Q10. In normal distribution with respect to mean position, where does the least frequent data appeaar?\n",
    " In a normal distribution, the least frequent data appears in the tails of the distribution, far away from the mean. The normal distribution is symmetric around the mean, so the same amount of data appears on either side of the mean. However, as we move further away from the mean, the density of the data decreases rapidly. The tails of the distribution contain the most extreme values, which occur with very low probability."
   ]
  },
  {
   "cell_type": "raw",
   "id": "83f37c64",
   "metadata": {},
   "source": []
  },
  {
   "cell_type": "code",
   "execution_count": null,
   "id": "83f1d0ef",
   "metadata": {},
   "outputs": [],
   "source": []
  }
 ],
 "metadata": {
  "kernelspec": {
   "display_name": "Python 3 (ipykernel)",
   "language": "python",
   "name": "python3"
  },
  "language_info": {
   "codemirror_mode": {
    "name": "ipython",
    "version": 3
   },
   "file_extension": ".py",
   "mimetype": "text/x-python",
   "name": "python",
   "nbconvert_exporter": "python",
   "pygments_lexer": "ipython3",
   "version": "3.9.12"
  }
 },
 "nbformat": 4,
 "nbformat_minor": 5
}
