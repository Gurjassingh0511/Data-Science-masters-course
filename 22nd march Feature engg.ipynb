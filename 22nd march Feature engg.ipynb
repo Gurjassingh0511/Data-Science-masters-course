{
 "cells": [
  {
   "cell_type": "raw",
   "id": "c96307aa",
   "metadata": {},
   "source": [
    "Q1. Pearson correlation coefficient is a measure of the linear relationship between two variables. Suppose you have collected data on the amount of time students spend studying for an exam and their final exam scores. Calculate the Pearson correlation coefficient between these two variables and interpret the result.\n",
    "\n",
    "ANS: To calculate the Pearson correlation coefficient between the amount of time students spend studying and their final exam scores, you would first need to calculate the covariance and the standard deviation of both variables. Then, you can use the formula for Pearson's correlation coefficient:\n",
    "\n",
    "r = Cov(X,Y) / (SD(X) * SD(Y))\n",
    "\n",
    "where r is the Pearson correlation coefficient, Cov(X,Y) is the covariance between X and Y, and SD(X) and SD(Y) are the standard deviations of X and Y, respectively.\n",
    "\n",
    "Interpreting the result depends on the value of r. The value of r ranges from -1 to 1, with values closer to -1 or 1 indicating a stronger linear relationship between the two variables. A value of 0 indicates no linear relationship. If the Pearson correlation coefficient between the amount of time spent studying and final exam scores is positive and close to 1, it would suggest that there is a strong positive linear relationship between the two variables, meaning that the more time a student spends studying, the higher their final exam score is likely to be. On the other hand, if the correlation coefficient is negative and close to -1, it would indicate a strong negative linear relationship, meaning that the more time a student spends studying, the lower their final exam score is likely to be. A correlation coefficient close to 0 would suggest that there is no linear relationship between the two variables."
   ]
  },
  {
   "cell_type": "raw",
   "id": "9df67664",
   "metadata": {},
   "source": [
    "Q2. Spearman's rank correlation is a measure of the monotonic relationship between two variables. Suppose you have collected data on the amount of sleep individuals get each night and their overall job satisfaction level on a scale of 1 to 10. Calculate the Spearman's rank correlation between these two variables and interpret the result.\n",
    " To calculate the Spearman's rank correlation between the amount of sleep individuals get and their overall job satisfaction level, you would first need to rank both variables from smallest to largest. Then, you can use the formula for Spearman's rank correlation:\n",
    "\n",
    "r_s = 1 - (6 * sum(d_i^2) / (n * (n^2 - 1)))\n",
    "\n",
    "where r_s is the Spearman's rank correlation coefficient, d_i is the difference between the ranks of the corresponding values of X and Y, and n is the sample size.\n",
    "\n",
    "Interpreting the result also depends on the value of r_s. The value of r_s ranges from -1 to 1, with values closer to -1 or 1 indicating a stronger monotonic relationship between the two variables. A value of 0 indicates no monotonic relationship. If the Spearman's rank correlation coefficient between the amount of sleep individuals get and their overall job satisfaction level is positive and close to 1, it would suggest that there is a strong positive monotonic relationship between the two variables, meaning that individuals who get more sleep tend to have higher job satisfaction levels. On the other hand, if the correlation coefficient is negative and close to -1, it would indicate a strong negative monotonic relationship, meaning that individuals who get less sleep tend to have lower job satisfaction levels. A correlation coefficient close to 0 would suggest that there is no monotonic relationship between the two variables.\n",
    "\n"
   ]
  },
  {
   "cell_type": "raw",
   "id": "b0ab7358",
   "metadata": {},
   "source": [
    "Q3. Suppose you are conducting a study to examine the relationship between the number of hours of exercise per week and body mass index (BMI) in a sample of adults. You collected data on both variables for 50 participants. Calculate the Pearson correlation coefficient and the Spearman's rank correlation between these two variables and compare the results.\n",
    " To calculate the Pearson correlation coefficient and the Spearman's rank correlation between the number of hours of exercise per week and body mass index (BMI), you would use the same formulas as in Q1 and Q2, respectively. The interpretation of the results would be similar as well, with the Pearson correlation coefficient indicating the strength and direction of the linear relationship between the two variables, and the Spearman's rank correlation coefficient indicating the strength and direction of the monotonic relationship between the two variables.\n",
    "\n",
    "However, there may be some differences in the results of the two measures. Pearson's correlation coefficient assumes that the relationship between the two variables is linear, which means that a change in one variable is directly proportional to a change in the other variable. On the other hand, Spearman's rank correlation coefficient does not assume a linear relationship and is based on the ranks of the two variables. Therefore, if the relationship"
   ]
  },
  {
   "cell_type": "raw",
   "id": "7ba84a56",
   "metadata": {},
   "source": [
    "Q4. A researcher is interested in examining the relationship between the number of hours individuals spend watching television per day and their level of physical activity. The researcher collected data on both variables from a sample of 50 participants. Calculate the Pearson correlation coefficient between these two variables.\n",
    "\n",
    "\n",
    "To calculate the Pearson correlation coefficient between the number of hours individuals spend watching television per day and their level of physical activity, you would first need to calculate the covariance and the standard deviation of both variables. Then, you can use the formula for Pearson's correlation coefficient:\n",
    "\n",
    "r = Cov(X,Y) / (SD(X) * SD(Y))\n",
    "\n",
    "where r is the Pearson correlation coefficient, Cov(X,Y) is the covariance between X and Y, and SD(X) and SD(Y) are the standard deviations of X and Y, respectively.\n",
    "\n",
    "Let's say the sample data for the number of hours spent watching television and level of physical activity are denoted by X and Y, respectively. You can use the following steps to calculate the Pearson correlation coefficient:\n",
    "\n",
    "Calculate the mean of X and Y:\n",
    "\n",
    "mean_X = (sum of all X values) / n\n",
    "mean_Y = (sum of all Y values) / n\n",
    "\n",
    "Calculate the standard deviation of X and Y:\n",
    "\n",
    "SD_X = sqrt(sum((X - mean_X)^2) / (n - 1))\n",
    "SD_Y = sqrt(sum((Y - mean_Y)^2) / (n - 1))\n",
    "\n",
    "Calculate the covariance between X and Y:\n",
    "\n",
    "Cov(X,Y) = sum((X - mean_X) * (Y - mean_Y)) / (n - 1)\n",
    "\n",
    "Calculate the Pearson correlation coefficient:\n",
    "\n",
    "r = Cov(X,Y) / (SD(X) * SD(Y))\n",
    "\n",
    "Once you have the values for mean_X, mean_Y, SD_X, SD_Y, and Cov(X,Y), you can plug them into the formula for Pearson's correlation coefficient and calculate the value of r. The resulting value of r will range from -1 to 1, with values closer to -1 or 1 indicating a stronger linear relationship between the two variables.\n",
    "\n",
    "Interpreting the result would depend on the value of r. If the Pearson correlation coefficient between the number of hours spent watching television per day and level of physical activity is positive and close to 1, it would suggest that there is a strong positive linear relationship between the two variables, meaning that individuals who watch more television tend to be less physically active. On the other hand, if the correlation coefficient is negative and close to -1, it would indicate a strong negative linear relationship, meaning that individuals who watch less television tend to be more physically active. A correlation coefficient close to 0 would suggest that there is no linear relationship between the two variables."
   ]
  },
  {
   "cell_type": "code",
   "execution_count": null,
   "id": "4a5e2506",
   "metadata": {},
   "outputs": [],
   "source": [
    "Q5. A survey was conducted to examine the relationship between age and preference for a particular brand of soft drink. The survey results are shown below:\n",
    "Age(Years)      Soft drink Preference \n",
    "25                Coke\n",
    "42                Pepsi\n",
    "37                Mountain dew\n",
    "19                Coke\n",
    "31                Pepsi\n",
    "28                Coke\n",
    "\n",
    "Ans-"
   ]
  },
  {
   "cell_type": "raw",
   "id": "646e683f",
   "metadata": {},
   "source": [
    "Q6. A company is interested in examining the relationship between the number of sales calls made per day and the number of sales made per week. The company collected data on both variables from a sample of 30 sales representatives. Calculate the Pearson correlation coefficient between these two variables.\n",
    "\n",
    "To calculate the Pearson correlation coefficient between the number of sales calls made per day and the number of sales made per week, you would first need to calculate the covariance and the standard deviation of both variables. Then, you can use the formula for Pearson's correlation coefficient:\n",
    "\n",
    "r = Cov(X,Y) / (SD(X) * SD(Y))\n",
    "\n",
    "where r is the Pearson correlation coefficient, Cov(X,Y) is the covariance between X and Y, and SD(X) and SD(Y) are the standard deviations of X and Y, respectively.\n",
    "\n",
    "Let's say the sample data for the number of sales calls made per day and the number of sales made per week are denoted by X and Y, respectively. You can use the following steps to calculate the Pearson correlation coefficient:\n",
    "\n",
    "Calculate the mean of X and Y:\n",
    "\n",
    "mean_X = (sum of all X values) / n\n",
    "mean_Y = (sum of all Y values) / n\n",
    "\n",
    "Calculate the standard deviation of X and Y:\n",
    "\n",
    "SD_X = sqrt(sum((X - mean_X)^2) / (n - 1))\n",
    "SD_Y = sqrt(sum((Y - mean_Y)^2) / (n - 1))\n",
    "\n",
    "Calculate the covariance between X and Y:\n",
    "\n",
    "Cov(X,Y) = sum((X - mean_X) * (Y - mean_Y)) / (n - 1)\n",
    "\n",
    "Calculate the Pearson correlation coefficient:\n",
    "\n",
    "r = Cov(X,Y) / (SD(X) * SD(Y))\n",
    "\n",
    "Once you have the values for mean_X, mean_Y, SD_X, SD_Y, and Cov(X,Y), you can plug them into the formula for Pearson's correlation coefficient and calculate the value of r. The resulting value of r will range from -1 to 1, with values closer to -1 or 1 indicating a stronger linear relationship between the two variables.\n",
    "\n",
    "Interpreting the result would depend on the value of r. If the Pearson correlation coefficient between the number of sales calls made per day and the number of sales made per week is positive and close to 1, it would suggest that there is a strong positive linear relationship between the two variables, meaning that sales representatives who make more sales calls tend to make more sales per week. On the other hand, if the correlation coefficient is negative and close to -1, it would indicate a strong negative linear relationship, meaning that sales representatives who make fewer sales calls tend to make more sales per week. A correlation coefficient close to 0 would suggest that there is no linear relationship between the two variables."
   ]
  },
  {
   "cell_type": "code",
   "execution_count": null,
   "id": "3dce10f3",
   "metadata": {},
   "outputs": [],
   "source": []
  }
 ],
 "metadata": {
  "kernelspec": {
   "display_name": "Python 3 (ipykernel)",
   "language": "python",
   "name": "python3"
  },
  "language_info": {
   "codemirror_mode": {
    "name": "ipython",
    "version": 3
   },
   "file_extension": ".py",
   "mimetype": "text/x-python",
   "name": "python",
   "nbconvert_exporter": "python",
   "pygments_lexer": "ipython3",
   "version": "3.9.12"
  }
 },
 "nbformat": 4,
 "nbformat_minor": 5
}
