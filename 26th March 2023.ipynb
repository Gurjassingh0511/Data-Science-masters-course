{
 "cells": [
  {
   "cell_type": "raw",
   "id": "c3b96489",
   "metadata": {},
   "source": [
    "Q1. Explain the difference between simple linear regression and multiple linear regression. Provide an example of each.\n",
    "Simple linear regression is a statistical technique that models the relationship between a single independent variable and a dependent variable. Multiple linear regression is an extension of simple linear regression that models the relationship between multiple independent variables and a dependent variable.\n",
    "\n",
    "Example of simple linear regression: A researcher wants to examine the relationship between the number of hours studied and the exam score. The researcher collects data on the number of hours studied and the corresponding exam score for a group of students.\n",
    "\n",
    "Example of multiple linear regression: A car dealership wants to predict the price of a car based on various attributes such as the mileage, age of the car, and the model. The dealership collects data on the mileage, age, model, and price of several cars.\n"
   ]
  },
  {
   "cell_type": "raw",
   "id": "7d0d18d7",
   "metadata": {},
   "source": [
    "Q2. Discuss the assumptions of linear regression. How can you check whether these assumptions hold in a given dataset?\n",
    "\n",
    "\n",
    "Assumptions of linear regression include:\n",
    "\n",
    "Linearity: The relationship between the independent and dependent variables is linear.\n",
    "Independence: The observations are independent of each other.\n",
    "Homoscedasticity: The variance of the errors is constant across all values of the independent variable.\n",
    "Normality: The errors are normally distributed with a mean of zero.\n",
    "No multicollinearity: The independent variables are not highly correlated with each other.\n",
    "To check these assumptions, one can use diagnostic plots such as a residual plot to check for linearity and homoscedasticity, a normal probability plot to check for normality, and a correlation matrix to check for multicollinearity."
   ]
  },
  {
   "cell_type": "raw",
   "id": "95d69483",
   "metadata": {},
   "source": [
    "Q3. How do you interpret the slope and intercept in a linear regression model? Provide an example using a real-world scenario.\n",
    "\n",
    " In a linear regression model, the slope represents the change in the dependent variable for each unit increase in the independent variable. The intercept represents the expected value of the dependent variable when the independent variable is zero.\n",
    "\n",
    "Example: In a study examining the relationship between exercise and weight loss, the slope represents the change in weight loss for each additional hour of exercise per week, and the intercept represents the expected weight loss for someone who does not exercise at all."
   ]
  },
  {
   "cell_type": "raw",
   "id": "f882c968",
   "metadata": {},
   "source": [
    "Q4. Explain the concept of gradient descent. How is it used in machine learning?\n",
    "Gradient descent is an optimization algorithm used in machine learning to find the optimal values of model parameters that minimize the cost function. It involves iteratively adjusting the model parameters in the direction of the negative gradient of the cost function until convergence is reached.\n",
    "\n",
    "Gradient descent is used in various machine learning models such as linear regression, logistic regression, and neural networks.\n"
   ]
  },
  {
   "cell_type": "raw",
   "id": "5fe6a80f",
   "metadata": {},
   "source": [
    "Q5. Describe the multiple linear regression model. How does it differ from simple linear regression?\n",
    " Multiple linear regression is a statistical technique that models the relationship between multiple independent variables and a dependent variable. It differs from simple linear regression, which only models the relationship between a single independent variable and a dependent variable.\n",
    "\n",
    "In multiple linear regression, the model can be represented as y = b0 + b1x1 + b2x2 + ... + bnxn, where y is the dependent variable, x1, x2, ..., xn are the independent variables, b0 is the intercept, and b1, b2, ..., bn are the coefficients.\n"
   ]
  },
  {
   "cell_type": "raw",
   "id": "3bcdb646",
   "metadata": {},
   "source": [
    "Q6. Explain the concept of multicollinearity in multiple linear regression. How can you detect and address this issue?\n",
    "Multicollinearity is a phenomenon in multiple linear regression where two or more independent variables are highly correlated with each other. This can lead to unstable and unreliable coefficient estimates and makes it difficult to determine the effect of each independent variable on the dependent variable.\n",
    "\n",
    "To detect multicollinearity, one can use diagnostic tools such as a correlation matrix or variance inflation factor (VIF). To address multicollinearity, one can consider removing one of the correlated independent variables or combining them into a single variable.\n"
   ]
  },
  {
   "cell_type": "raw",
   "id": "510967d8",
   "metadata": {},
   "source": [
    "Q7. Describe the polynomial regression model. How is it different from linear regression?\n",
    "Polynomial regression is a statistical technique that models the relationship between the independent variable and the dependent variable as an nth degree polynomial equation. It differs from linear regression, which models the relationship as a straight line.\n",
    "\n",
    "The polynomial regression model can be represented as y = b0 + b1x + b2x^2 + ... + bnx^n, where y is the dependent variable, x is the independent variable, b0 is the intercept, and b1, b2, ..., bn are the coefficients for the polynomial terms of x.\n",
    "\n",
    "For example, if we want to model the relationship between temperature (x) and ice cream sales (y), we can use a polynomial regression with a degree of 2, represented by the equation y = b0 + b1x + b2x^2. This would allow us to model a quadratic relationship between temperature and ice cream sales, where the sales increase initially with temperature and then start to decrease at higher temperatures.\n"
   ]
  },
  {
   "cell_type": "raw",
   "id": "f587cd54",
   "metadata": {},
   "source": [
    "Q8. What are the advantages and disadvantages of polynomial regression compared to linear regression? In what situations would you prefer to use polynomial regression?\n",
    "The advantages of polynomial regression over linear regression include the ability to model nonlinear relationships between variables and capture more complex patterns in the data. However, polynomial regression can also be prone to overfitting, where the model fits too closely to the training data and performs poorly on new data. Additionally, higher-degree polynomial models can become computationally expensive and may require more data to train effectively.\n",
    "\n",
    "Polynomial regression may be preferred in situations where the relationship between variables is known to be nonlinear or where a more accurate prediction is desired at the cost of increased model complexity. Linear regression may be preferred in situations where the relationship between variables is expected to be linear or where simplicity and interpretability are more important."
   ]
  },
  {
   "cell_type": "code",
   "execution_count": null,
   "id": "3ba007fb",
   "metadata": {},
   "outputs": [],
   "source": []
  },
  {
   "cell_type": "code",
   "execution_count": null,
   "id": "1e87eebc",
   "metadata": {},
   "outputs": [],
   "source": []
  },
  {
   "cell_type": "code",
   "execution_count": null,
   "id": "2d9027ff",
   "metadata": {},
   "outputs": [],
   "source": []
  },
  {
   "cell_type": "code",
   "execution_count": null,
   "id": "b1cb6171",
   "metadata": {},
   "outputs": [],
   "source": []
  }
 ],
 "metadata": {
  "kernelspec": {
   "display_name": "Python 3 (ipykernel)",
   "language": "python",
   "name": "python3"
  },
  "language_info": {
   "codemirror_mode": {
    "name": "ipython",
    "version": 3
   },
   "file_extension": ".py",
   "mimetype": "text/x-python",
   "name": "python",
   "nbconvert_exporter": "python",
   "pygments_lexer": "ipython3",
   "version": "3.9.12"
  }
 },
 "nbformat": 4,
 "nbformat_minor": 5
}
