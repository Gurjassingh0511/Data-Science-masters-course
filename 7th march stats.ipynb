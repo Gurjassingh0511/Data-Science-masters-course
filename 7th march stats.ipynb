{
 "cells": [
  {
   "cell_type": "raw",
   "id": "79eec5c2",
   "metadata": {},
   "source": [
    "Q1. What are the three measures of central tendency?\n",
    "The three measures of central tendency are the mean, median, and mode.\n",
    "\n"
   ]
  },
  {
   "cell_type": "raw",
   "id": "b759dcd9",
   "metadata": {},
   "source": [
    "Q2. What is the difference between the mean, median, and mode? How are they used to measure the central tendency of a dataset?\n",
    "\n",
    "The mean is the arithmetic average of a dataset, obtained by adding up all the values and dividing by the number of values. It is sensitive to extreme values or outliers in the data.\n",
    "\n",
    "The median is the middle value in a dataset when the values are arranged in order. It is not affected by outliers and is a more robust measure of central tendency.\n",
    "\n",
    "The mode is the most common value in a dataset. It can be used to describe the central tendency of nominal or ordinal data.\n",
    "\n",
    "All three measures are used to describe the central tendency of a dataset. The mean is commonly used when the data is normally distributed and there are no outliers. The median is used when the data is skewed or has outliers. The mode is used when the data is nominal or ordinal."
   ]
  },
  {
   "cell_type": "raw",
   "id": "396e711f",
   "metadata": {},
   "source": [
    "Q3. Measure the three measures of central tendency for the given height data:\n",
    "[178,177,176,177,178.2,178,175,179,180,175,178.9,176.2,177,172.5,178,176.5]\n",
    "\n",
    "Mean = (178+177+176+177+178.2+178+175+179+180+175+178.9+176.2+177+172.5+178+176.5)/16 = 176.98125\n",
    "\n",
    "Median = (arranging in order) 175, 175, 176, 176.2, 176.5, 177, 177, 178, 178, 178.2, 178.9, 178, 179, 180 = 177.5\n",
    "\n",
    "Mode = 178"
   ]
  },
  {
   "cell_type": "raw",
   "id": "01ee8975",
   "metadata": {},
   "source": [
    "Q4. Find the standard deviation for the given data:\n",
    "[178,177,176,177,178.2,178,175,179,180,175,178.9,176.2,177,172.5,178,176.5]\n",
    "\n",
    "To calculate the standard deviation, we first need to calculate the mean:\n",
    "Mean = 176.98125\n",
    "\n",
    "Then, we calculate the difference between each value and the mean:\n",
    "[(178-176.98125), (177-176.98125), (176-176.98125), (177-176.98125), (178.2-176.98125), (178-176.98125), (175-176.98125), (179-176.98125), (180-176.98125), (175-176.98125), (178.9-176.98125), (176.2-176.98125), (177-176.98125), (172.5-176.98125), (178-176.98125), (176.5-176.98125)]\n",
    "\n",
    "These differences are called deviations from the mean. We then square each deviation, add them up, and divide by the number of values minus one to get the variance:\n",
    "Variance = (27.98530625+0.000625+0.900625+0.000625+0.04530625+0.00030625+3.60130625+4.390625+10.890625+3.60130625+0.81530625+0.01630625+0.000625+20.02030625+0.04530625+0.00130625)/15\n",
    "= 6.120221739\n",
    "\n",
    "Finally, we take the square root of the variance to get the standard deviation\n",
    "\n",
    "Using the formula, we get:\n",
    "\n",
    "s = sqrt[(1/(n-1)) * ((178-177.26)^2 + (177-177.26)^2 + ... + (176.5-177.26)^2)]\n",
    "\n",
    "s = sqrt[(1/(16-1)) * ((0.74)^2 + (-0.26)^2 + (-1.26)^2 + ... + (-0.76)^2)]\n",
    "\n",
    "s = sqrt[(1/15) * (0.5476 + 0.0676 + 1.5876 + ... + 0.5776)]\n",
    "\n",
    "s = sqrt[(1/15) * 5.8]\n",
    "\n",
    "s = sqrt[0.3867]\n",
    "\n",
    "s = 0.62 (rounded to two decimal places)\n",
    "\n",
    "Therefore, the standard deviation of the given data is approximately 0.62."
   ]
  },
  {
   "cell_type": "raw",
   "id": "06dbe062",
   "metadata": {},
   "source": [
    "Q5. Measures of dispersion such as range, variance, and standard deviation are used to describe the spread of a dataset.\n",
    "\n",
    "Range: It measures the difference between the maximum and minimum values in a dataset. It provides a quick and easy way to assess the spread of the data. For example, if the range of test scores in a class is 60-95, we know that the scores are spread out over a range of 35 points.\n",
    "\n",
    "Variance: It measures the average deviation of each data point from the mean of the dataset. It is calculated by taking the sum of the squared differences between each data point and the mean, dividing it by the number of data points, and taking the square root of the result. It provides a more precise measure of the spread of the data than range.\n",
    "\n",
    "Standard deviation: It is the square root of variance and provides a measure of the average distance of the data points from the mean. It is often used to describe the spread of a dataset in a normal distribution. For example, if the standard deviation of test scores in a class is 10, we know that the scores are spread out from the mean by an average of 10 points.\n",
    "\n"
   ]
  },
  {
   "cell_type": "raw",
   "id": "a2bacc3e",
   "metadata": {},
   "source": [
    "Q6. A Venn diagram is a graphical representation of set theory that uses circles to show relationships between sets. It consists of overlapping circles that represent different sets and the areas of intersection show the elements that are common to both sets. It is often used in mathematics and statistics to visualize the relationships between sets."
   ]
  },
  {
   "cell_type": "raw",
   "id": "764db46d",
   "metadata": {},
   "source": [
    "Q7.\n",
    "(i) A B means the intersection of sets A and B, which includes the elements that are common to both sets. From the given sets, the common element between A and B is 6. Therefore, A B = {6}.\n",
    "\n",
    "(ii) A ⋃ B means the union of sets A and B, which includes all the elements that belong to either set A or set B or both. From the given sets, the union of A and B is {0, 2, 3, 4, 5, 6, 7, 8, 10}."
   ]
  },
  {
   "cell_type": "raw",
   "id": "9d4c7635",
   "metadata": {},
   "source": [
    "Q8. Skewness in data refers to the lack of symmetry in a distribution. A dataset is said to be skewed if it is not evenly distributed around the mean. There are two types of skewness:\n",
    "\n",
    "Positive skewness: It occurs when the tail of a distribution is longer on the positive side of the mean, indicating that there are more data points with higher values than lower values. For example, the distribution of income data may be positively skewed, indicating that there are more people with high incomes than low incomes.\n",
    "\n",
    "Negative skewness: It occurs when the tail of a distribution is longer on the negative side of the mean, indicating that there are more data points with lower values than higher values. For example, the distribution of exam scores may be negatively skewed, indicating that there are more students who scored low on the exam than those who scored high.\n",
    "\n",
    "Skewness is an important aspect to consider when analyzing data because it can affect the interpretation of the data and the selection of statistical methods."
   ]
  },
  {
   "cell_type": "raw",
   "id": "1aeab3c6",
   "metadata": {},
   "source": [
    "Q9. If a data is right skewed then what will be the position of median with respect to mean?\n",
    "If a data is right skewed then the median will be less than the mean. This is because the mean is pulled towards the tail of the distribution, which in this case is on the right side, where the larger values are."
   ]
  },
  {
   "cell_type": "raw",
   "id": "003a7609",
   "metadata": {},
   "source": [
    "Q10. Explain the difference between covariance and correlation. How are these measures used in statistical analysis?\n",
    "Covariance and correlation are both measures of the relationship between two variables. However, covariance measures the extent to which two variables vary together, while correlation measures the strength and direction of the linear relationship between two variables. Covariance can take on any value, whereas correlation is always between -1 and 1, with values close to -1 indicating a strong negative correlation, values close to 1 indicating a strong positive correlation, and values close to 0 indicating no correlation. Both measures are used in statistical analysis to help understand the relationship between variables, but correlation is often preferred as it is standardized and easier to interpret.\n",
    "\n"
   ]
  },
  {
   "cell_type": "raw",
   "id": "664c6348",
   "metadata": {},
   "source": [
    "Q11. What is the formula for calculating the sample mean? Provide an example calculation for a dataset.\n",
    "The formula for calculating the sample mean is:\n",
    "\n",
    "Sample mean = (sum of all values in the sample) / (number of values in the sample)\n",
    "\n",
    "For example, consider the following dataset: 3, 7, 9, 12, 15\n",
    "The sum of all values in the sample is 3 + 7 + 9 + 12 + 15 = 46\n",
    "The number of values in the sample is 5\n",
    "Therefore, the sample mean is 46 / 5 = 9.2"
   ]
  },
  {
   "cell_type": "raw",
   "id": "39d72239",
   "metadata": {},
   "source": [
    "Q12. For a normal distribution data what is the relationship between its measure of central tendency?\n",
    "For a normal distribution data, the measure of central tendency, such as the mean, median, and mode, are equal. This is because the normal distribution is symmetric and bell-shaped, so the center of the distribution is also the point of highest frequency."
   ]
  },
  {
   "cell_type": "raw",
   "id": "ea947ea0",
   "metadata": {},
   "source": [
    "Q13. How is covariance different from correlation?\n",
    "Covariance and correlation both measure the relationship between two variables, but there are some key differences between the two measures. Covariance is a measure of the strength of the linear relationship between two variables, while correlation measures the direction and strength of the linear relationship between two variables. Covariance can take on any value, while correlation is always between -1 and 1. Additionally, correlation is a standardized measure that is independent of the units of the variables, while covariance is not standardized and depends on the units of the variables."
   ]
  },
  {
   "cell_type": "raw",
   "id": "3d472b15",
   "metadata": {},
   "source": [
    "Q14. How do outliers affect measures of central tendency and dispersion? Provide an example.\n",
    "Outliers can have a significant impact on measures of central tendency and dispersion. For example, if there is an outlier that is much larger than the other values in the dataset, the mean will be pulled towards that value, making it a poor measure of central tendency. Similarly, outliers can increase the range, variance, and standard deviation of the dataset, making them poor measures of dispersion. For instance, consider the dataset: 2, 4, 6, 8, 10, 100. The outlier value of 100 will make the mean much larger than the other values, while also increasing the range, variance, and standard deviation."
   ]
  },
  {
   "cell_type": "code",
   "execution_count": null,
   "id": "ec221f66",
   "metadata": {},
   "outputs": [],
   "source": []
  },
  {
   "cell_type": "code",
   "execution_count": null,
   "id": "959e2561",
   "metadata": {},
   "outputs": [],
   "source": []
  }
 ],
 "metadata": {
  "kernelspec": {
   "display_name": "Python 3 (ipykernel)",
   "language": "python",
   "name": "python3"
  },
  "language_info": {
   "codemirror_mode": {
    "name": "ipython",
    "version": 3
   },
   "file_extension": ".py",
   "mimetype": "text/x-python",
   "name": "python",
   "nbconvert_exporter": "python",
   "pygments_lexer": "ipython3",
   "version": "3.9.12"
  }
 },
 "nbformat": 4,
 "nbformat_minor": 5
}
